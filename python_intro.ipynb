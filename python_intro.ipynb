{
 "cells": [
  {
   "cell_type": "markdown",
   "metadata": {},
   "source": [
    "# Python\n",
    "\n",
    "**Python** is an [interpreted](https://www.freecodecamp.org/news/compiled-versus-interpreted-languages/), high-level, object-oriented programming language. It was created by Guido van Rossum, and released in 1991. It is considered a 'general purpose' programming language due to its flexibility and wide variety of applications (eg. Python can be used to build simple games, for backend in web development, and as we will learn, it is well-suited for data analytics, mathematics, and machine learning.)\n",
    "\n",
    "Python files have a `.py` extension, and you can run them from your terminal with the script `python filename.py`. Your code will be executed, and the terminal will display any results you have printed to be reviewed. The code runs top to bottom - if there is an error at some point, the code will exit at that point and the rest will not run until the next execution. \n",
    "\n",
    "## Jupyter Notebook\n",
    "\n",
    "We will also be using [Jupyter Notebook](https://jupyter.org/) files, which have a file extension of `.ipynb` (which stands for **interactive python notebook**). The benefit of using Jupyter Notebook files is that we can combine both Markdown and Python into a single file, which makes for easy documentation of your code, but also the code blocks can be run individually without the need to run the entire script every time. This could be achieved in Python files using functions and imports, but then your code would be spread across multiple files. \n",
    "\n",
    "The print statements will also stay in the Notebook's memory even between sessions, which can be handy! But the active variables only exist for the current session. Even though the print statement is still visible, the next time you open VSCode you will need to run the code blocks again if you want to interact with any of the variables. To see your current variable values, there is a button in the top menu for \"Variables\". Run a single block by clicking the triangle \"play\" button on the block, or with <kbd>Ctrl</kbd> + <kbd>Enter</kbd>, or run all blocks by clicking \"Run all\" at the top. \n",
    "\n",
    "Blocks can be collapsed to save space. \n",
    "\n",
    "[Here](https://code.visualstudio.com/docs/datascience/jupyter-notebooks) is a good resource if this is still a bit confusing, but you will have plenty of practise in the coming weeks!\n",
    "\n",
    "## Print\n",
    "\n",
    "The Python `print()` statement is going to be extremely useful for you! This is how you communicate what your code has accomplished. Jupyter Notebook code blocks have a little shortcut syntax that prints the _last_ variable you reference. It might sometimes be necessary to print multiple values at different point, in which case you can use the print function. Comma-separate values to print as many things as you need.\n",
    "\n",
    "## Data Types\n",
    "\n",
    "In programming, **variables** hold information, and the [data type](https://www.w3schools.com/python/python_datatypes.asp) of your variables will provide options for different functionalities. Python will infer the type of your variable from the way it has been defined. If you are ever unsure, you can check the data type of your variable with the `type()` function. \n",
    "\n",
    "Declare a variable by assigning it a name (Python users tend to favour **snake_case** to handle multiple word names). When you want to use the value of your variable, your refer to it by the declaration name. Be aware that variable names should be unique! If you reuse the same variable name later in your script, you are overwriting the value of the previous variable rather than creating a new one. This may or may not be your intention. \n",
    "\n",
    "## Primitive Types\n",
    "\n",
    "**Primitive types** hold a single value, these include **text**, **numeric** and **boolean** types. \n",
    "\n",
    "### Numeric Types\n",
    "\n",
    "Numeric types will have additional methods for mathematical operations. Numeric types come in 3 categories:\n",
    "  - **Integer** is a round number\n",
    "  - **Float** (floating point number) is usually a decimal number, can also be a scientific number\n",
    "  - **Complex** created from two real numbers (used in mathematics)\n",
    "\n",
    "Numeric data types can be used together with [**arithmetic operators**](https://www.w3schools.com/python/gloss_python_arithmetic_operators.asp): \n",
    "  - addition `+`\n",
    "  - subtraction `-`\n",
    "  - multiplication `*`\n",
    "  - division `/`\n",
    "  - modulus (remainder) `%`\n",
    "  - exponentiation (raise to a power) `**`\n",
    "  - floor division (round down) `//`"
   ]
  },
  {
   "cell_type": "code",
   "execution_count": 9,
   "metadata": {},
   "outputs": [
    {
     "name": "stdout",
     "output_type": "stream",
     "text": [
      "integer: 234\n",
      "float: 1.234\n",
      "1000.0\n",
      "235.234\n",
      "integer after change: 456\n",
      "<class 'float'>\n",
      "<class 'int'>\n"
     ]
    }
   ],
   "source": [
    "# tip: comments in code can be made using hash - the interpreter will ignore these lines\n",
    "\n",
    "# declare example of an integer\n",
    "integer = 234\n",
    "print(\"integer:\", integer)\n",
    "\n",
    "# declare example of a float\n",
    "my_float = 1.234\n",
    "scientific_float = 1e3\n",
    "print(\"float:\", my_float)\n",
    "print(scientific_float)\n",
    "\n",
    "# add them together\n",
    "added_numbers = integer + my_float\n",
    "\n",
    "print(added_numbers)\n",
    "\n",
    "# print the variable values, then their types\n",
    "integer = 456\n",
    "print(\"integer after change:\", integer)\n",
    "\n",
    "print(type(added_numbers))\n",
    "print(type(integer))"
   ]
  },
  {
   "cell_type": "markdown",
   "metadata": {},
   "source": [
    "### Strings\n",
    "\n",
    "Text content is held in string type variables. They are defined by wrapping quotation marks around any collection of characters (including numbers!). Python will accept either double or single quotations, just make sure to use the same symbol to close the string that you used to open it! Strings come with a variety of **methods** to manipulate or extract further information. Have a read [here](https://www.w3schools.com/python/python_strings_methods.asp) through some of the possibilities - you might get some ideas for solving the exercises you'll spend the next few days working through. \n",
    "\n",
    "Strings can be **concatenated** (ie. added end-to-end) using a `+`. Compare the difference between how a string and a numeric data type behave with this operator. \n",
    "\n",
    "It is common to need to reference the value of other variables in a string, to condense the syntax you can use [**format strings**](https://www.w3schools.com/python/python_strings_format.asp). "
   ]
  },
  {
   "cell_type": "code",
   "execution_count": 12,
   "metadata": {},
   "outputs": [
    {
     "name": "stdout",
     "output_type": "stream",
     "text": [
      "Emily Stickler\n",
      "Emily Stickler\n"
     ]
    },
    {
     "data": {
      "text/plain": [
       "'22456'"
      ]
     },
     "execution_count": 12,
     "metadata": {},
     "output_type": "execute_result"
    }
   ],
   "source": [
    "# declare a string\n",
    "name = \"Emily\"\n",
    "\n",
    "# declare a second string\n",
    "last_name = \"Stickler\"\n",
    "\n",
    "space = \" \"\n",
    "\n",
    "# add them together\n",
    "full_name = name + space + last_name\n",
    "\n",
    "full_name2 = f\"{name} {last_name}\"\n",
    "\n",
    "print(full_name)\n",
    "print(full_name2)\n",
    "# add a string with numbers\n",
    "number_string = \"I'm Emily\"\n",
    "\n",
    "number_string + str(integer)\n",
    "\n",
    "\n",
    "# format string (compare adding string to numeric)"
   ]
  },
  {
   "cell_type": "markdown",
   "metadata": {},
   "source": [
    "Variables of different types often won't play nicely together. If you need to switch between primitive data types, you can use a [casting](https://www.w3schools.com/python/python_casting.asp) function. Beware that numeric strings will need to be formatted correctly. Non-numeric characters will result in an error!"
   ]
  },
  {
   "cell_type": "code",
   "execution_count": 60,
   "metadata": {},
   "outputs": [
    {
     "name": "stdout",
     "output_type": "stream",
     "text": [
      "<class 'int'>\n",
      "12345.0\n"
     ]
    },
    {
     "data": {
      "text/plain": [
       "2"
      ]
     },
     "execution_count": 60,
     "metadata": {},
     "output_type": "execute_result"
    }
   ],
   "source": [
    "# cast float to int\n",
    "print(type(integer))\n",
    "\n",
    "# print(floated_integer)\n",
    "int(\"2\")\n",
    "\n",
    "# cast int to float\n",
    "print(float(12345))\n",
    "\n",
    "# cast any number to string\n",
    "my_number = 23455\n",
    "stringified_number = str(my_number)\n",
    "stringified_number\n",
    "\n",
    "sentence = \"I don't like blue cheese\"\n",
    "\n",
    "# cast numeric string to numeric type\n",
    "two = \"2\"\n",
    "int(two)"
   ]
  },
  {
   "cell_type": "markdown",
   "metadata": {},
   "source": [
    "### Boolean\n",
    "\n",
    "In programming, a **boolean** is a data type that holds a value of either **True** or **False**. If you are declaring your own boolean variable, make sure to capitalize the first letter, and that it is _not_ wrapped in quotations (making it a string)."
   ]
  },
  {
   "cell_type": "code",
   "execution_count": 61,
   "metadata": {},
   "outputs": [],
   "source": [
    "# declare a True and False variable\n",
    "\n",
    "# print type\n",
    "\n",
    "my_boolean_true = True\n",
    "my_boolean_false = False\n"
   ]
  },
  {
   "cell_type": "markdown",
   "metadata": {},
   "source": [
    "Syntax in programming is very important to get right. VSCode is an excellent work environment as it will often give us warnings about mistakes before we even execute the code. Just so we're all on the same page, I will be using these key words to describe the different symbols: \n",
    "\n",
    "![symbols](terms.png)"
   ]
  },
  {
   "cell_type": "markdown",
   "metadata": {},
   "source": [
    "Before we move onto more complex types, it is also worth noting that the value of a variable could also be `None`. "
   ]
  },
  {
   "cell_type": "code",
   "execution_count": 62,
   "metadata": {},
   "outputs": [
    {
     "name": "stdout",
     "output_type": "stream",
     "text": [
      "<class 'NoneType'>\n"
     ]
    }
   ],
   "source": [
    "# declare variable as None\n",
    "nothing = None\n",
    "\n",
    "# print variable and then variable type\n",
    "print(type(nothing))"
   ]
  },
  {
   "cell_type": "markdown",
   "metadata": {},
   "source": [
    "## Non-Primitive Types\n",
    "\n",
    "Non-primitive data types work more like a collection of values rather than a single value, but still saved to a single variable. Which data type you choose will determine the structure, influencing how you _access_ the values, and enforcing some limitations on adding/removing/updating. All of these data types will come with a variety of inbuilt methods, so it is important to understand the difference.\n",
    "\n",
    "### Lists\n",
    "\n",
    "A [**list**](https://www.w3schools.com/python/python_lists.asp) is exactly what it sounds like: a collection of variables chained together. You can save any mix of data types (including more lists!), but it is most common for lists to hold values of the same data type. Declare a list by using **square brackets**, or use the `list()` constructor."
   ]
  },
  {
   "cell_type": "code",
   "execution_count": 63,
   "metadata": {},
   "outputs": [
    {
     "name": "stdout",
     "output_type": "stream",
     "text": [
      "['alex', 'tim', 'pablo', 'sudha', 'rakesh']\n",
      "[1, 2, 3, 4, 5]\n",
      "[123, 'string', ['one', 'two', 'three']]\n"
     ]
    }
   ],
   "source": [
    "# declare list of strings\n",
    "llamas = [\"alex\", \"tim\", \"pablo\", \"sudha\", \"rakesh\"]\n",
    "print(llamas)\n",
    "\n",
    "# declare list of numbers\n",
    "numbers = [1, 2, 3, 4, 5]\n",
    "print(numbers)\n",
    "\n",
    "# declare mixed list\n",
    "mixed_list = [123, \"string\", [\"one\", \"two\", \"three\"]]\n",
    "print(mixed_list)"
   ]
  },
  {
   "cell_type": "markdown",
   "metadata": {},
   "source": [
    "Lists are **ordered**, meaning the order of the items is tracked - you will use the position to target a specific item within the list. This positional indicator is known as an **index**. Use **square brackets** to isolate a value by index.\n",
    "\n",
    "Lists (and other data structures) will start counting from zero. So the first item in the list is index zero, then index one, etc. Python will also let you count backwards! To refer to the last item in a list, start at minus one, then minus two for the second-to-last item. You can even specify a range of indexes by separating them with a colon: `[from:to]`.\n",
    "\n",
    "Lists can also have nested lists as their values! To isolate the nested values, you will have to chain indexes together."
   ]
  },
  {
   "cell_type": "code",
   "execution_count": 64,
   "metadata": {},
   "outputs": [
    {
     "name": "stdout",
     "output_type": "stream",
     "text": [
      "['alex', 'tim', 'pablo', 'sudha', 'rakesh']\n",
      "['tim', 'pablo', 'sudha']\n"
     ]
    }
   ],
   "source": [
    "# print whole list\n",
    "# print(mixed_list)\n",
    "\n",
    "# print first item\n",
    "# print(mixed_list[0])\n",
    "\n",
    "# print second item\n",
    "# print(mixed_list[1])\n",
    "\n",
    "# print last item \n",
    "# print(mixed_list[-1])\n",
    "\n",
    "# print second-to-last item\n",
    "# print(mixed_list[-2])\n",
    "\n",
    "# print range of items\n",
    "print(llamas)\n",
    "print(llamas[1:4])"
   ]
  },
  {
   "cell_type": "markdown",
   "metadata": {},
   "source": [
    "There are specific [methods](https://www.w3schools.com/python/python_lists_add.asp) to add or remove items from lists. \n",
    "  - `append()` adds an item to the end of a list\n",
    "  - `insert()` adds an item at a specified index position\n",
    "  - `extend()` will combine the items from two separate lists (or other iterable data types) into a single list\n",
    "\n",
    "When you are researching which method is best to achieve your goal, make sure to pay attention to whether a method manipulates the _original_ variable, or if it returns a value you will need to save as a _new_ variable. This is true for methods of every data type! "
   ]
  },
  {
   "cell_type": "code",
   "execution_count": 65,
   "metadata": {},
   "outputs": [
    {
     "name": "stdout",
     "output_type": "stream",
     "text": [
      "['alex', 'tim', 'pablo', 'sudha', 'rakesh']\n",
      "['alex', 'tim', 'pablo', 'sudha', 'rakesh']\n",
      "['alex', 'tim', 'pablo', 'sudha', 'rakesh']\n",
      "['emily', 'alex', 'tim', 'pablo', 'sudha', 'rakesh']\n"
     ]
    }
   ],
   "source": [
    "llamas = [\"alex\", \"tim\", \"pablo\", \"sudha\", \"rakesh\"]\n",
    "\n",
    "# append an item to a list\n",
    "print(llamas)\n",
    "# llamas.append(\"Emily\")\n",
    "print(llamas)\n",
    "# llamas.pop()\n",
    "print(llamas)\n",
    "llamas.insert(0, \"emily\")\n",
    "print(llamas)\n",
    "\n",
    "# insert an item at index 2\n",
    "\n",
    "# extend two lists into one\n"
   ]
  },
  {
   "cell_type": "markdown",
   "metadata": {},
   "source": [
    "### Tuples\n",
    "\n",
    "[**Tuples**](https://www.w3schools.com/python/python_tuples.asp) are very similar to lists, in that they hold multiple ordered values, allow different data types and duplicates, but they cannot be updated after they are created. Note that by this, I mean there are no _methods_ to add or remove values, there is no protection against _overwriting_ the entire tuple. \n",
    "\n",
    "Multiple tuples can be concatenated to a single tuple using `+`, the same syntax for concatenating strings. **Unpack** the values by declaring into individual variables.\n",
    "\n",
    "Declare a tuple with **parentheses**."
   ]
  },
  {
   "cell_type": "code",
   "execution_count": 66,
   "metadata": {},
   "outputs": [
    {
     "name": "stdout",
     "output_type": "stream",
     "text": [
      "dackels\n"
     ]
    }
   ],
   "source": [
    "# declare a tuple\n",
    "my_tuple = (\"llamas\", \"dackels\", \"tarantulas\", \"cats\")\n",
    "# print(my_tuple)\n",
    "\n",
    "# extend a list and a tuple\n",
    "\n",
    "# target values in the tuple by index\n",
    "my_tuple[1]\n",
    "\n",
    "# unpack a tuple\n",
    "(llamas, dackels, tarantulas, cats) = my_tuple\n",
    "\n",
    "print(dackels)"
   ]
  },
  {
   "cell_type": "markdown",
   "metadata": {},
   "source": [
    "### Sets\n",
    "\n",
    "A [**set**](https://www.w3schools.com/python/python_sets.asp) is an **unordered** collection of values. The values themselves cannot be updated, but values can be added using `add()`, or removed using `remove()`, `discard()` or `pop()`. Merge another iterable into a set by using `update()`.\n",
    "\n",
    "The main benefit of a set is that the values must be **unique**. A very easy way to remove duplicates from a list or tuple would be to convert it into a set, then back again. Convert other iterables into a set using the `set()` constructor. \n",
    "\n",
    "Declare a set using **curly braces**."
   ]
  },
  {
   "cell_type": "code",
   "execution_count": 67,
   "metadata": {},
   "outputs": [
    {
     "name": "stdout",
     "output_type": "stream",
     "text": [
      "{'emily', 'lucas', 'raul', 'muayad'}\n",
      "{'muayad', 'lucas', 'jost', 'emily', 'raul'}\n",
      "{'muayad', 'lucas', 'jost', 'emily', 'raul'}\n",
      "{'muayad', 'lucas', 'emily', 'raul'}\n",
      "{'lucas', 'emily', 'raul'}\n"
     ]
    }
   ],
   "source": [
    "# declare set\n",
    "\n",
    "mentors = {\"emily\", \"muayad\", \"raul\", \"lucas\"}\n",
    "\n",
    "# add duplicate\n",
    "\n",
    "print(mentors)\n",
    "mentors.add(\"jost\")\n",
    "print(mentors)\n",
    "mentors.add(\"emily\")\n",
    "print(mentors)\n",
    "\n",
    "# delete an item with remove\n",
    "\n",
    "mentors.remove(\"jost\")\n",
    "print(mentors)\n",
    "\n",
    "# attempt to remove item that doesn't exist\n",
    "\n",
    "# mentors.remove(\"jost\")\n",
    "\n",
    "# delete an item with discard\n",
    "\n",
    "mentors.discard(\"jost\")\n",
    "\n",
    "# delete an item with pop\n",
    "mentors.pop()\n",
    "print(mentors)"
   ]
  },
  {
   "cell_type": "markdown",
   "metadata": {},
   "source": [
    "### Dictionaries\n",
    "\n",
    "A [**dictionary**](https://www.w3schools.com/python/python_dictionaries.asp) stores values in **key:value** pairs. Every value is assigned a key which can be used to target the value you want, rather than using the index position. For this reason, keys must be **unique** within each dictionary. Keys will usually be strings, but can also be numeric. The values in a dictionary can be any data type, including other iterables, even nested dictionaries! \n",
    "\n",
    "Adding and updating values can be achieved by targetting the key and reassigning the value, or by using the `update()` method. If a key doesn't already exist, it will be created. Deleting items can be achieved with `pop()`, `del`, `popitem()` or `clear()`.\n",
    "\n",
    "From Python version 3.7 onward, dictionaries are now **ordered**. This means they should always print in the same order, determined by the order in which the values were inserted. Inspect just the keys or values by using "
   ]
  },
  {
   "cell_type": "code",
   "execution_count": 68,
   "metadata": {},
   "outputs": [
    {
     "name": "stdout",
     "output_type": "stream",
     "text": [
      "Emily\n",
      "{'name': 'Wirenz', 'animal': 'cat', 'age': 16, 'desexed': True}\n",
      "Wirenz\n",
      "{'name': 'Emily', 'from': 'Australia', 'pet': {'name': 'Wirenz', 'animal': 'cat', 'age': 16, 'desexed': True}, 'age': 37}\n",
      "{'name': 'Emily', 'from': 'Australia', 'pet': {'name': 'Wirenz', 'animal': 'cat', 'age': 16, 'desexed': True}, 'age': 38}\n"
     ]
    }
   ],
   "source": [
    "# declare dictionary\n",
    "my_pet = {\n",
    "  \"name\": \"Wirenz\",\n",
    "  \"animal\": \"cat\",\n",
    "  \"age\": 16,\n",
    "  \"desexed\": True \n",
    "}\n",
    "\n",
    "me = {\n",
    "  \"name\": \"Emily\",\n",
    "  \"from\": \"Australia\",\n",
    "  \"pet\": my_pet\n",
    "}\n",
    "\n",
    "print(me[\"name\"])\n",
    "print(me[\"pet\"])\n",
    "print(me[\"pet\"][\"name\"])\n",
    "\n",
    "# declare nested dictionary\n",
    "\n",
    "# target a value using key\n",
    "\n",
    "# add a new value\n",
    "me[\"age\"] = 37\n",
    "print(me)\n",
    "# reassign a value using key\n",
    "\n",
    "# me[\"age\"] = me[\"age\"] + 1\n",
    "me[\"age\"] += 1\n",
    "print(me)\n",
    "# delete a key using pop"
   ]
  },
  {
   "cell_type": "markdown",
   "metadata": {},
   "source": [
    "Extract just the keys or values using `keys()` or `values()`, or use `items()` to separate each key/value pair into a tuple. The use-case for this is most likely going to be linked to looping/iteration, which we will look at tomorrow."
   ]
  },
  {
   "cell_type": "code",
   "execution_count": 69,
   "metadata": {},
   "outputs": [
    {
     "name": "stdout",
     "output_type": "stream",
     "text": [
      "dict_keys(['name', 'from', 'pet', 'age'])\n",
      "dict_values(['Emily', 'Australia', {'name': 'Wirenz', 'animal': 'cat', 'age': 16, 'desexed': True}, 38])\n",
      "dict_items([('name', 'Emily'), ('from', 'Australia'), ('pet', {'name': 'Wirenz', 'animal': 'cat', 'age': 16, 'desexed': True}), ('age', 38)])\n"
     ]
    }
   ],
   "source": [
    "# demonstrate each method\n",
    "print(me.keys())\n",
    "print(me.values())\n",
    "print(me.items())"
   ]
  },
  {
   "cell_type": "markdown",
   "metadata": {},
   "source": [
    "## Conditional Statements\n",
    "\n",
    "It is very common in programming that you will have different code blocks which you want to run under different conditions. [Conditionals](https://www.w3schools.com/python/python_conditions.asp) will determine the block to run based on a comparison which will return either `True` or `False`. Chain multiple comparisons together with `and` and/or `or`. Comparison operators include:\n",
    "  - Equals: `a == b`\n",
    "  - Not Equals: `a != b`\n",
    "  - Less than: `a < b`\n",
    "  - Less than or equal to: `a <= b`\n",
    "  - Greater than: `a > b`\n",
    "  - Greater than or equal to: `a >= b`"
   ]
  },
  {
   "cell_type": "code",
   "execution_count": 14,
   "metadata": {},
   "outputs": [
    {
     "data": {
      "text/plain": [
       "False"
      ]
     },
     "execution_count": 14,
     "metadata": {},
     "output_type": "execute_result"
    }
   ],
   "source": [
    "# demo the return of a few comparison operators\n",
    "one = 1\n",
    "two = 2\n",
    "\n",
    "answer = one > two\n",
    "answer"
   ]
  },
  {
   "cell_type": "markdown",
   "metadata": {},
   "source": [
    "Give your comparison to an **if... else...** statement. The code block to be run when a condition is met will need to be [**indented**](https://www.w3schools.com/python/python_syntax.asp). This is a Python syntax to indicate the block of code belongs to the condition. \n",
    "\n",
    "Multiple if conditions can be chained together using **elif** (else if). Make sure you're using elif/else if you only one **one** condition in a chain to be met, otherwise every condition that passes will run. Further conditions can be nested using further indentation. "
   ]
  },
  {
   "cell_type": "code",
   "execution_count": 71,
   "metadata": {},
   "outputs": [
    {
     "name": "stdout",
     "output_type": "stream",
     "text": [
      "they are the same\n",
      "one is two but three is something else\n"
     ]
    }
   ],
   "source": [
    "# if, elif, else\n",
    "one = 2\n",
    "two = 2\n",
    "three = 4\n",
    "\n",
    "if one < two:\n",
    "  print (\"one is less than two\")\n",
    "elif one > two:\n",
    "  print(\"one is greater than two\")\n",
    "else:\n",
    "  print(\"they are the same\")\n",
    "\n",
    "\n",
    "# if if if\n",
    "\n",
    "\n",
    "# if nested if\n",
    "if one == two:\n",
    "  if three == 3:\n",
    "    print(\"one is two and three is three\")\n",
    "  else:\n",
    "    print(\"one is two but three is something else\")"
   ]
  }
 ],
 "metadata": {
  "kernelspec": {
   "display_name": "CodeAcademy",
   "language": "python",
   "name": "python3"
  },
  "language_info": {
   "codemirror_mode": {
    "name": "ipython",
    "version": 3
   },
   "file_extension": ".py",
   "mimetype": "text/x-python",
   "name": "python",
   "nbconvert_exporter": "python",
   "pygments_lexer": "ipython3",
   "version": "3.12.2"
  }
 },
 "nbformat": 4,
 "nbformat_minor": 2
}
